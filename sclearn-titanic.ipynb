{
 "cells": [
  {
   "cell_type": "code",
   "execution_count": 156,
   "metadata": {},
   "outputs": [],
   "source": [
    "import pandas as pd\n",
    "import sklearn"
   ]
  },
  {
   "cell_type": "code",
   "execution_count": 157,
   "metadata": {},
   "outputs": [],
   "source": [
    "train = pd.read_csv(open('../Data/Kaggle/train.csv'))"
   ]
  },
  {
   "cell_type": "code",
   "execution_count": 158,
   "metadata": {},
   "outputs": [],
   "source": [
    "test = pd.read_csv(open('../Data/Kaggle/test.csv'))"
   ]
  },
  {
   "cell_type": "code",
   "execution_count": 159,
   "metadata": {},
   "outputs": [],
   "source": [
    "test['Test'] = 1"
   ]
  },
  {
   "cell_type": "code",
   "execution_count": 160,
   "metadata": {},
   "outputs": [],
   "source": [
    "combine = pd.merge(train, test, how='outer')"
   ]
  },
  {
   "cell_type": "code",
   "execution_count": 161,
   "metadata": {},
   "outputs": [
    {
     "name": "stdout",
     "output_type": "stream",
     "text": [
      "<class 'pandas.core.frame.DataFrame'>\n",
      "Int64Index: 1309 entries, 0 to 1308\n",
      "Data columns (total 13 columns):\n",
      "PassengerId    1309 non-null int64\n",
      "Survived       891 non-null float64\n",
      "Pclass         1309 non-null int64\n",
      "Name           1309 non-null object\n",
      "Sex            1309 non-null object\n",
      "Age            1046 non-null float64\n",
      "SibSp          1309 non-null int64\n",
      "Parch          1309 non-null int64\n",
      "Ticket         1309 non-null object\n",
      "Fare           1308 non-null float64\n",
      "Cabin          295 non-null object\n",
      "Embarked       1307 non-null object\n",
      "Test           418 non-null float64\n",
      "dtypes: float64(4), int64(4), object(5)\n",
      "memory usage: 117.6+ KB\n"
     ]
    }
   ],
   "source": [
    "combine.info()"
   ]
  },
  {
   "cell_type": "code",
   "execution_count": 163,
   "metadata": {},
   "outputs": [],
   "source": [
    "combine['Is_male']   = combine['Is_female'] = combine['Sex']\n",
    "combine['Is_male']   = combine['Is_male'].map(lambda x : 1 if x == 'male' else 0)\n",
    "combine['Is_female'] = combine['Is_female'].map(lambda x : 1 if x == 'female' else 0)"
   ]
  },
  {
   "cell_type": "code",
   "execution_count": 164,
   "metadata": {},
   "outputs": [],
   "source": [
    "embarked = {'C':0, 'S':1, 'Q':2, '':-1}"
   ]
  },
  {
   "cell_type": "code",
   "execution_count": 165,
   "metadata": {},
   "outputs": [],
   "source": [
    "combine['Embarked_1'] = combine[combine['Embarked'].notnull()]['Embarked'].map(lambda x : embarked[x])"
   ]
  },
  {
   "cell_type": "code",
   "execution_count": 166,
   "metadata": {},
   "outputs": [],
   "source": [
    "combine.loc[combine['Embarked'].isnull(), ['Embarked']] = -1"
   ]
  },
  {
   "cell_type": "code",
   "execution_count": 167,
   "metadata": {},
   "outputs": [],
   "source": [
    "title = ['Dr.', 'Rev.', 'Master.', 'Mrs.', 'Miss.', 'Mr.', 'Mlle.', 'Ms.', 'Capt']\n",
    "title_dict = {}\n",
    "for v, k in enumerate(title):\n",
    "    title_dict[k] = v"
   ]
  },
  {
   "cell_type": "code",
   "execution_count": 168,
   "metadata": {},
   "outputs": [],
   "source": [
    "combine['Title_Num'] = combine['Name'].map(lambda x : title_dict.get(x.split(' ')[1]), '')\n",
    "combine['Title']     = combine['Name'].map(lambda x : x.split(' ')[1] if title_dict.get(x.split(' ')[1]) else '')\n",
    "g_title = combine.groupby(by=['Title', 'Survived'])"
   ]
  },
  {
   "cell_type": "code",
   "execution_count": 169,
   "metadata": {},
   "outputs": [],
   "source": [
    "def to_int(p_num):\n",
    "    try:\n",
    "        int(p_num)\n",
    "        return False\n",
    "    except:\n",
    "        return True"
   ]
  },
  {
   "cell_type": "code",
   "execution_count": 171,
   "metadata": {},
   "outputs": [
    {
     "data": {
      "text/html": [
       "<div>\n",
       "<style scoped>\n",
       "    .dataframe tbody tr th:only-of-type {\n",
       "        vertical-align: middle;\n",
       "    }\n",
       "\n",
       "    .dataframe tbody tr th {\n",
       "        vertical-align: top;\n",
       "    }\n",
       "\n",
       "    .dataframe thead th {\n",
       "        text-align: right;\n",
       "    }\n",
       "</style>\n",
       "<table border=\"1\" class=\"dataframe\">\n",
       "  <thead>\n",
       "    <tr style=\"text-align: right;\">\n",
       "      <th></th>\n",
       "      <th>PassengerId</th>\n",
       "      <th>Survived</th>\n",
       "      <th>Pclass</th>\n",
       "      <th>Name</th>\n",
       "      <th>Sex</th>\n",
       "      <th>Age</th>\n",
       "      <th>SibSp</th>\n",
       "      <th>Parch</th>\n",
       "      <th>Ticket</th>\n",
       "      <th>Fare</th>\n",
       "      <th>Cabin</th>\n",
       "      <th>Embarked</th>\n",
       "      <th>Test</th>\n",
       "      <th>Is_male</th>\n",
       "      <th>Is_female</th>\n",
       "      <th>Embarked_1</th>\n",
       "      <th>Title_Num</th>\n",
       "      <th>Title</th>\n",
       "    </tr>\n",
       "  </thead>\n",
       "  <tbody>\n",
       "    <tr>\n",
       "      <th>0</th>\n",
       "      <td>1</td>\n",
       "      <td>0.0</td>\n",
       "      <td>3</td>\n",
       "      <td>Braund, Mr. Owen Harris</td>\n",
       "      <td>male</td>\n",
       "      <td>22.0</td>\n",
       "      <td>1</td>\n",
       "      <td>0</td>\n",
       "      <td>A/5 21171</td>\n",
       "      <td>7.2500</td>\n",
       "      <td>NaN</td>\n",
       "      <td>S</td>\n",
       "      <td>NaN</td>\n",
       "      <td>1</td>\n",
       "      <td>0</td>\n",
       "      <td>1.0</td>\n",
       "      <td>5.0</td>\n",
       "      <td>Mr.</td>\n",
       "    </tr>\n",
       "    <tr>\n",
       "      <th>1</th>\n",
       "      <td>2</td>\n",
       "      <td>1.0</td>\n",
       "      <td>1</td>\n",
       "      <td>Cumings, Mrs. John Bradley (Florence Briggs Th...</td>\n",
       "      <td>female</td>\n",
       "      <td>38.0</td>\n",
       "      <td>1</td>\n",
       "      <td>0</td>\n",
       "      <td>PC 17599</td>\n",
       "      <td>71.2833</td>\n",
       "      <td>C85</td>\n",
       "      <td>C</td>\n",
       "      <td>NaN</td>\n",
       "      <td>0</td>\n",
       "      <td>1</td>\n",
       "      <td>0.0</td>\n",
       "      <td>3.0</td>\n",
       "      <td>Mrs.</td>\n",
       "    </tr>\n",
       "    <tr>\n",
       "      <th>2</th>\n",
       "      <td>3</td>\n",
       "      <td>1.0</td>\n",
       "      <td>3</td>\n",
       "      <td>Heikkinen, Miss. Laina</td>\n",
       "      <td>female</td>\n",
       "      <td>26.0</td>\n",
       "      <td>0</td>\n",
       "      <td>0</td>\n",
       "      <td>STON/O2. 3101282</td>\n",
       "      <td>7.9250</td>\n",
       "      <td>NaN</td>\n",
       "      <td>S</td>\n",
       "      <td>NaN</td>\n",
       "      <td>0</td>\n",
       "      <td>1</td>\n",
       "      <td>1.0</td>\n",
       "      <td>4.0</td>\n",
       "      <td>Miss.</td>\n",
       "    </tr>\n",
       "    <tr>\n",
       "      <th>10</th>\n",
       "      <td>11</td>\n",
       "      <td>1.0</td>\n",
       "      <td>3</td>\n",
       "      <td>Sandstrom, Miss. Marguerite Rut</td>\n",
       "      <td>female</td>\n",
       "      <td>4.0</td>\n",
       "      <td>1</td>\n",
       "      <td>1</td>\n",
       "      <td>PP 9549</td>\n",
       "      <td>16.7000</td>\n",
       "      <td>G6</td>\n",
       "      <td>S</td>\n",
       "      <td>NaN</td>\n",
       "      <td>0</td>\n",
       "      <td>1</td>\n",
       "      <td>1.0</td>\n",
       "      <td>4.0</td>\n",
       "      <td>Miss.</td>\n",
       "    </tr>\n",
       "    <tr>\n",
       "      <th>12</th>\n",
       "      <td>13</td>\n",
       "      <td>0.0</td>\n",
       "      <td>3</td>\n",
       "      <td>Saundercock, Mr. William Henry</td>\n",
       "      <td>male</td>\n",
       "      <td>20.0</td>\n",
       "      <td>0</td>\n",
       "      <td>0</td>\n",
       "      <td>A/5. 2151</td>\n",
       "      <td>8.0500</td>\n",
       "      <td>NaN</td>\n",
       "      <td>S</td>\n",
       "      <td>NaN</td>\n",
       "      <td>1</td>\n",
       "      <td>0</td>\n",
       "      <td>1.0</td>\n",
       "      <td>5.0</td>\n",
       "      <td>Mr.</td>\n",
       "    </tr>\n",
       "  </tbody>\n",
       "</table>\n",
       "</div>"
      ],
      "text/plain": [
       "    PassengerId  Survived  Pclass  \\\n",
       "0             1       0.0       3   \n",
       "1             2       1.0       1   \n",
       "2             3       1.0       3   \n",
       "10           11       1.0       3   \n",
       "12           13       0.0       3   \n",
       "\n",
       "                                                 Name     Sex   Age  SibSp  \\\n",
       "0                             Braund, Mr. Owen Harris    male  22.0      1   \n",
       "1   Cumings, Mrs. John Bradley (Florence Briggs Th...  female  38.0      1   \n",
       "2                              Heikkinen, Miss. Laina  female  26.0      0   \n",
       "10                    Sandstrom, Miss. Marguerite Rut  female   4.0      1   \n",
       "12                     Saundercock, Mr. William Henry    male  20.0      0   \n",
       "\n",
       "    Parch            Ticket     Fare Cabin Embarked  Test  Is_male  Is_female  \\\n",
       "0       0         A/5 21171   7.2500   NaN        S   NaN        1          0   \n",
       "1       0          PC 17599  71.2833   C85        C   NaN        0          1   \n",
       "2       0  STON/O2. 3101282   7.9250   NaN        S   NaN        0          1   \n",
       "10      1           PP 9549  16.7000    G6        S   NaN        0          1   \n",
       "12      0         A/5. 2151   8.0500   NaN        S   NaN        1          0   \n",
       "\n",
       "    Embarked_1  Title_Num  Title  \n",
       "0          1.0        5.0    Mr.  \n",
       "1          0.0        3.0   Mrs.  \n",
       "2          1.0        4.0  Miss.  \n",
       "10         1.0        4.0  Miss.  \n",
       "12         1.0        5.0    Mr.  "
      ]
     },
     "execution_count": 171,
     "metadata": {},
     "output_type": "execute_result"
    }
   ],
   "source": [
    "combine[combine['Ticket'].map(lambda x : to_int(x))].head()"
   ]
  },
  {
   "cell_type": "code",
   "execution_count": 172,
   "metadata": {},
   "outputs": [],
   "source": [
    "combine.index = combine['PassengerId']"
   ]
  },
  {
   "cell_type": "code",
   "execution_count": 173,
   "metadata": {},
   "outputs": [],
   "source": [
    "combine[combine['Fare'].isnull()] = combine[(combine['Pclass'] == 3) & (combine['Title'] == 'Mr.') & (combine['Is_male'] == 1)].mean()['Fare']"
   ]
  },
  {
   "cell_type": "code",
   "execution_count": 174,
   "metadata": {},
   "outputs": [],
   "source": [
    "combine[combine['Embarked_1'].isnull()] = combine[(combine['Pclass'] == 1) & (combine['Title'] == 'Miss.') & (combine['Is_female'] == 1)].median()['Embarked_1']"
   ]
  },
  {
   "cell_type": "code",
   "execution_count": 175,
   "metadata": {},
   "outputs": [
    {
     "name": "stdout",
     "output_type": "stream",
     "text": [
      "PassengerId = 0\n",
      "Survived = 417\n",
      "Pclass = 0\n",
      "Name = 0\n",
      "Sex = 0\n",
      "Age = 263\n",
      "SibSp = 0\n",
      "Parch = 0\n",
      "Ticket = 0\n",
      "Fare = 0\n",
      "Cabin = 1013\n",
      "Embarked = 0\n",
      "Test = 889\n",
      "Is_male = 0\n",
      "Is_female = 0\n",
      "Embarked_1 = 0\n",
      "Title_Num = 47\n",
      "Title = 0\n"
     ]
    }
   ],
   "source": [
    "for i in combine.columns:\n",
    "    print('{0} = {1}'.format(i, combine[combine[i].isnull()]['PassengerId'].count()))"
   ]
  },
  {
   "cell_type": "code",
   "execution_count": 176,
   "metadata": {},
   "outputs": [],
   "source": [
    "used_columns = ['Pclass', 'Fare', 'Is_male', 'Is_female', 'Survived', 'Test']"
   ]
  },
  {
   "cell_type": "code",
   "execution_count": 177,
   "metadata": {},
   "outputs": [],
   "source": [
    "combine = combine[used_columns]"
   ]
  },
  {
   "cell_type": "code",
   "execution_count": 178,
   "metadata": {},
   "outputs": [
    {
     "data": {
      "text/plain": [
       "Index(['Pclass', 'Fare', 'Is_male', 'Is_female', 'Survived', 'Test'], dtype='object')"
      ]
     },
     "execution_count": 178,
     "metadata": {},
     "output_type": "execute_result"
    }
   ],
   "source": [
    "combine.columns"
   ]
  },
  {
   "cell_type": "code",
   "execution_count": 180,
   "metadata": {},
   "outputs": [],
   "source": [
    "from sklearn.feature_selection import RFE\n",
    "from sklearn.linear_model import LogisticRegression\n",
    "model = LogisticRegression()"
   ]
  },
  {
   "cell_type": "code",
   "execution_count": 181,
   "metadata": {},
   "outputs": [],
   "source": [
    "X_train = combine[combine['Test'].isnull()][used_columns]\n",
    "X_test  = combine[combine['Test'].notnull()][used_columns]\n",
    "del X_train['Test']\n",
    "del X_test['Test']"
   ]
  },
  {
   "cell_type": "code",
   "execution_count": 182,
   "metadata": {},
   "outputs": [],
   "source": [
    "y_train = np.asarray(X_train['Survived'], dtype=\"|S6\")\n",
    "y_test = np.asarray(X_test['Survived'], dtype=\"|S6\")"
   ]
  },
  {
   "cell_type": "code",
   "execution_count": 183,
   "metadata": {},
   "outputs": [],
   "source": [
    "del X_train['Survived']\n",
    "del X_test['Survived']"
   ]
  },
  {
   "cell_type": "code",
   "execution_count": 184,
   "metadata": {},
   "outputs": [
    {
     "name": "stderr",
     "output_type": "stream",
     "text": [
      "c:\\users\\anikolaev\\documents\\github\\machinelearning\\lib\\site-packages\\sklearn\\linear_model\\logistic.py:432: FutureWarning: Default solver will be changed to 'lbfgs' in 0.22. Specify a solver to silence this warning.\n",
      "  FutureWarning)\n"
     ]
    }
   ],
   "source": [
    "rfe = model.fit(X_train, y_train)"
   ]
  },
  {
   "cell_type": "code",
   "execution_count": 185,
   "metadata": {},
   "outputs": [],
   "source": [
    "r = rfe.predict(X_test)"
   ]
  },
  {
   "cell_type": "code",
   "execution_count": 186,
   "metadata": {},
   "outputs": [
    {
     "data": {
      "text/plain": [
       "array([b'1.0', b'1.0', b'0.0', b'1.0', b'0.0', b'0.0', b'1.0', b'0.0',\n",
       "       b'1.0', b'0.0', b'1.0', b'0.0', b'0.0', b'0.0', b'1.0', b'0.0',\n",
       "       b'1.0', b'1.0', b'0.0', b'0.0', b'1.0', b'1.0', b'0.0', b'0.0',\n",
       "       b'1.0', b'0.0', b'1.0', b'0.0', b'1.0', b'0.0', b'0.0', b'0.0',\n",
       "       b'0.0', b'0.0', b'1.0', b'1.0', b'0.0', b'0.0', b'1.0', b'1.0',\n",
       "       b'0.0', b'0.0', b'0.0', b'0.0', b'0.0', b'1.0', b'1.0', b'0.0',\n",
       "       b'0.0', b'0.0', b'1.0', b'1.0', b'0.0', b'0.0', b'1.0', b'1.0',\n",
       "       b'0.0', b'0.0', b'0.0', b'0.0', b'0.0', b'1.0', b'0.0', b'0.0',\n",
       "       b'0.0', b'1.0', b'1.0', b'1.0', b'1.0', b'0.0', b'0.0', b'1.0',\n",
       "       b'1.0', b'0.0', b'1.0', b'0.0', b'1.0', b'0.0', b'0.0', b'1.0',\n",
       "       b'0.0', b'1.0', b'0.0', b'0.0', b'0.0', b'0.0', b'0.0', b'0.0',\n",
       "       b'1.0', b'1.0', b'1.0', b'0.0', b'1.0', b'0.0', b'1.0', b'0.0',\n",
       "       b'0.0', b'0.0', b'1.0', b'0.0', b'1.0', b'0.0', b'1.0', b'0.0',\n",
       "       b'0.0', b'0.0', b'1.0', b'0.0', b'0.0', b'0.0', b'0.0', b'0.0',\n",
       "       b'0.0', b'1.0', b'1.0', b'1.0', b'1.0', b'0.0', b'0.0', b'1.0',\n",
       "       b'0.0', b'1.0', b'1.0', b'0.0', b'1.0', b'0.0', b'0.0', b'1.0',\n",
       "       b'0.0', b'1.0', b'0.0', b'0.0', b'0.0', b'0.0', b'1.0', b'0.0',\n",
       "       b'0.0', b'0.0', b'0.0', b'0.0', b'1.0', b'0.0', b'1.0', b'1.0',\n",
       "       b'1.0', b'0.0', b'0.0', b'0.0', b'0.0', b'0.0', b'0.0', b'0.0',\n",
       "       b'1.0', b'0.0', b'1.0', b'1.0', b'0.0', b'0.0', b'1.0', b'1.0',\n",
       "       b'0.0', b'1.0', b'1.0', b'0.0', b'1.0', b'0.0', b'0.0', b'1.0',\n",
       "       b'0.0', b'0.0', b'1.0', b'1.0', b'0.0', b'0.0', b'0.0', b'0.0',\n",
       "       b'0.0', b'1.0', b'1.0', b'0.0', b'1.0', b'1.0', b'0.0', b'0.0',\n",
       "       b'1.0', b'0.0', b'1.0', b'0.0', b'1.0', b'0.0', b'1.0', b'0.0',\n",
       "       b'0.0', b'0.0', b'0.0', b'0.0', b'0.0', b'0.0', b'0.0', b'1.0',\n",
       "       b'0.0', b'1.0', b'1.0', b'0.0', b'0.0', b'1.0', b'0.0', b'0.0',\n",
       "       b'1.0', b'0.0', b'1.0', b'0.0', b'0.0', b'0.0', b'0.0', b'1.0',\n",
       "       b'1.0', b'0.0', b'1.0', b'0.0', b'1.0', b'0.0', b'1.0', b'0.0',\n",
       "       b'1.0', b'0.0', b'1.0', b'1.0', b'0.0', b'1.0', b'0.0', b'0.0',\n",
       "       b'0.0', b'1.0', b'0.0', b'0.0', b'0.0', b'0.0', b'0.0', b'0.0',\n",
       "       b'1.0', b'1.0', b'1.0', b'1.0', b'0.0', b'0.0', b'0.0', b'0.0',\n",
       "       b'1.0', b'0.0', b'1.0', b'1.0', b'1.0', b'0.0', b'0.0', b'0.0',\n",
       "       b'0.0', b'0.0', b'0.0', b'0.0', b'1.0', b'0.0', b'0.0', b'0.0',\n",
       "       b'1.0', b'1.0', b'0.0', b'0.0', b'0.0', b'0.0', b'1.0', b'0.0',\n",
       "       b'0.0', b'0.0', b'1.0', b'1.0', b'0.0', b'1.0', b'0.0', b'0.0',\n",
       "       b'0.0', b'0.0', b'1.0', b'0.0', b'1.0', b'1.0', b'1.0', b'0.0',\n",
       "       b'0.0', b'0.0', b'0.0', b'0.0', b'0.0', b'1.0', b'0.0', b'0.0',\n",
       "       b'0.0', b'0.0', b'1.0', b'0.0', b'0.0', b'0.0', b'0.0', b'0.0',\n",
       "       b'0.0', b'0.0', b'1.0', b'1.0', b'0.0', b'0.0', b'0.0', b'1.0',\n",
       "       b'0.0', b'0.0', b'0.0', b'1.0', b'1.0', b'1.0', b'0.0', b'0.0',\n",
       "       b'0.0', b'0.0', b'0.0', b'0.0', b'0.0', b'0.0', b'1.0', b'0.0',\n",
       "       b'1.0', b'0.0', b'0.0', b'0.0', b'1.0', b'0.0', b'0.0', b'1.0',\n",
       "       b'0.0', b'0.0', b'0.0', b'0.0', b'0.0', b'0.0', b'0.0', b'0.0',\n",
       "       b'0.0', b'1.0', b'0.0', b'1.0', b'0.0', b'1.0', b'0.0', b'1.0',\n",
       "       b'1.0', b'0.0', b'0.0', b'0.0', b'1.0', b'0.0', b'1.0', b'0.0',\n",
       "       b'0.0', b'1.0', b'0.0', b'1.0', b'1.0', b'0.0', b'1.0', b'1.0',\n",
       "       b'0.0', b'1.0', b'1.0', b'0.0', b'0.0', b'1.0', b'0.0', b'0.0',\n",
       "       b'1.0', b'1.0', b'1.0', b'0.0', b'0.0', b'0.0', b'0.0', b'0.0',\n",
       "       b'1.0', b'1.0', b'0.0', b'1.0', b'0.0', b'0.0', b'0.0', b'0.0',\n",
       "       b'0.0', b'1.0', b'0.0', b'0.0', b'0.0', b'1.0', b'0.0', b'1.0',\n",
       "       b'0.0', b'0.0', b'1.0', b'0.0', b'1.0', b'0.0', b'0.0', b'0.0',\n",
       "       b'0.0', b'0.0', b'1.0', b'1.0', b'1.0', b'1.0', b'1.0', b'0.0',\n",
       "       b'1.0', b'0.0', b'0.0', b'0.0'], dtype='|S6')"
      ]
     },
     "execution_count": 186,
     "metadata": {},
     "output_type": "execute_result"
    }
   ],
   "source": [
    "r"
   ]
  }
 ],
 "metadata": {
  "kernelspec": {
   "display_name": "Python 3",
   "language": "python",
   "name": "python3"
  },
  "language_info": {
   "codemirror_mode": {
    "name": "ipython",
    "version": 3
   },
   "file_extension": ".py",
   "mimetype": "text/x-python",
   "name": "python",
   "nbconvert_exporter": "python",
   "pygments_lexer": "ipython3",
   "version": "3.7.1"
  }
 },
 "nbformat": 4,
 "nbformat_minor": 2
}
